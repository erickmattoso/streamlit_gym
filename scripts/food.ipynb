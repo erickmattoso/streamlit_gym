{
 "cells": [
  {
   "cell_type": "markdown",
   "id": "1b8a89c6",
   "metadata": {},
   "source": [
    "# Libs"
   ]
  },
  {
   "cell_type": "code",
   "execution_count": 1,
   "id": "07d60f4c",
   "metadata": {},
   "outputs": [],
   "source": [
    "from bs4 import BeautifulSoup\n",
    "from datetime import date\n",
    "from selenium import webdriver\n",
    "from selenium.webdriver.chrome.options import Options\n",
    "import pandas as pd\n",
    "import time\n",
    "from webdriver_manager.chrome import ChromeDriverManager\n",
    "from fake_useragent import UserAgent\n",
    "import requests"
   ]
  },
  {
   "cell_type": "markdown",
   "id": "7827467b",
   "metadata": {},
   "source": [
    "# Functions"
   ]
  },
  {
   "cell_type": "code",
   "execution_count": 2,
   "id": "62d560e1",
   "metadata": {},
   "outputs": [],
   "source": [
    "def the_crawler(days_meal):\n",
    "    url = \"https://www.eatthismuch.com/diet-plan/3000-calorie/\"\n",
    "    chrome_options = Options()    \n",
    "    driver = webdriver.Chrome(ChromeDriverManager().install(), chrome_options=chrome_options)\n",
    "    driver.get(url)\n",
    "    driver.find_element_by_css_selector(\".btn.btn-lg.btn-block.btn-orange.gen_button\").click()\n",
    "    time.sleep(5)\n",
    "    html_soup = BeautifulSoup(driver.page_source)\n",
    "#     driver.close()\n",
    "    return html_soup\n",
    "\n",
    "def scrape_web(url):    \n",
    "    headers = {\"User-Agent\": \"Mozilla/5.0 (Macintosh; Intel Mac OS X 10_10_1) AppleWebKit/537.36 (KHTML, like Gecko) Chrome/39.0.2171.95 Safari/537.36\"}\n",
    "    ua=UserAgent()\n",
    "    hdr = {\"User-Agent\": ua.random,\n",
    "          \"Accept\": \"text/html,application/xhtml+xml,application/xml;q=0.9,*/*;q=0.8\",\n",
    "          \"Accept-Charset\": \"ISO-8859-1,utf-8;q=0.7,*;q=0.3\",\n",
    "          \"Accept-Encoding\": \"none\",\n",
    "          \"Accept-Language\": \"en-US,en;q=0.8\",\n",
    "          \"Connection\": \"keep-alive\"}\n",
    "    response = requests.get(url, headers=hdr)\n",
    "    time.sleep(5)\n",
    "    html_soup = BeautifulSoup(response.content,\"lxml\")   \n",
    "    return html_soup"
   ]
  },
  {
   "cell_type": "markdown",
   "id": "659a7e38",
   "metadata": {},
   "source": [
    "# Meal Planner"
   ]
  },
  {
   "cell_type": "code",
   "execution_count": 3,
   "id": "f90d7a0a",
   "metadata": {
    "scrolled": true
   },
   "outputs": [
    {
     "name": "stderr",
     "output_type": "stream",
     "text": [
      "\n",
      "\n",
      "====== WebDriver manager ======\n",
      "Current google-chrome version is 96.0.4664\n",
      "Get LATEST chromedriver version for 96.0.4664 google-chrome\n",
      "Driver [/Users/ericsonmarques/.wdm/drivers/chromedriver/mac64/96.0.4664.45/chromedriver] found in cache\n",
      "/var/folders/pl/wm7wjyvn1vvflk70yn1b6n6c0000gn/T/ipykernel_15945/3138219237.py:4: DeprecationWarning: use options instead of chrome_options\n",
      "  driver = webdriver.Chrome(ChromeDriverManager().install(), chrome_options=chrome_options)\n"
     ]
    }
   ],
   "source": [
    "meals = []\n",
    "\n",
    "for days_meal in range(1):\n",
    "    html_soup = the_crawler(days_meal)\n",
    "    calories = html_soup.find_all(\"div\", {\"class\": \"plan_calories text-medium\"})[0].text\n",
    "    calories = calories.replace(\" Calories\",\"\")\n",
    "\n",
    "    for count in range(0,4): # 4 meals per day\n",
    "        meal_plan = (html_soup.find_all(\"div\", {\"meal_box meal_container row\"})[count])\n",
    "        type_meal = meal_plan.find_all(\"div\", {\"col-auto text-dark-gray text-large text-strong print_meal_title wrap_or_truncate pr-0\"})[0].text\n",
    "        rece = meal_plan.find_all(\"div\", {\"print_name\"})\n",
    "\n",
    "        for i in range(len(rece)):\n",
    "            meal = rece[i].text.strip()\n",
    "            meal_link = meal.replace(\" & \",\"%20\")\n",
    "            meal_link = meal_link.replace(\" \",\"%20\")\n",
    "            meal_link = \"https://www.eatthismuch.com/food/browse/?q=\"+meal_link\n",
    "            day = days_meal\n",
    "            meals.append([day,calories,type_meal, meal,meal_link])\n",
    "\n",
    "    df = pd.DataFrame(meals)\n",
    "    df.to_csv(f\"../data/temp/receipts_partial.csv\")"
   ]
  },
  {
   "cell_type": "markdown",
   "id": "2af53f45",
   "metadata": {},
   "source": [
    "# Get link from recipe and nutrition values"
   ]
  },
  {
   "cell_type": "markdown",
   "id": "f0b9b0dd",
   "metadata": {},
   "source": [
    "## read files"
   ]
  },
  {
   "cell_type": "code",
   "execution_count": 4,
   "id": "7e31b96c",
   "metadata": {},
   "outputs": [],
   "source": [
    "# results from our crawler\n",
    "df_now = pd.read_csv(f\"../data/temp/receipts_partial.csv\", index_col=[0])\n",
    "df_now.columns = [\"day\", \"cals\", \"type_meal\", \"meal\", \"link\"]\n",
    "\n",
    "# results from our previous crawler\n",
    "df_previous = pd.read_csv(f\"../data/processed/datafera_todos.csv\", index_col=[0])"
   ]
  },
  {
   "cell_type": "markdown",
   "id": "7e0cc068",
   "metadata": {},
   "source": [
    "## Read links from recipe"
   ]
  },
  {
   "cell_type": "code",
   "execution_count": 5,
   "id": "0a019ec9",
   "metadata": {},
   "outputs": [],
   "source": [
    "links_recipes = set(df_now[\"link\"]) - set(df_previous[\"link\"])\n",
    "links_recipes = list(links_recipes)"
   ]
  },
  {
   "cell_type": "markdown",
   "id": "7dcedbb7",
   "metadata": {},
   "source": [
    "## Nutrition values\n",
    "Get values from nutrition"
   ]
  },
  {
   "cell_type": "code",
   "execution_count": 6,
   "id": "b046997f",
   "metadata": {
    "scrolled": true
   },
   "outputs": [],
   "source": [
    "dataframe_recipes = []\n",
    "error=[]\n",
    "receitas = []\n",
    "\n",
    "for i in range(len(links_recipes)):\n",
    "    \n",
    "    try:\n",
    "        \n",
    "        url = links_recipes[i]\n",
    "        html_soup = scrape_web(url)\n",
    "        Title = html_soup.find_all(\"div\", {\"result_name col-3\"})[0].text.strip()\n",
    "        Calories = html_soup.find_all(\"div\", {\"col-2 offset-1 nutrient_cell\"})[0].text.strip()\n",
    "        Carbs = html_soup.find_all(\"div\", {\"col-2 nutrient_cell\"})[0].text.strip()\n",
    "        Fat = html_soup.find_all(\"div\", {\"col-2 nutrient_cell\"})[1].text.strip()\n",
    "        Protein = html_soup.find_all(\"div\", {\"col-2 nutrient_cell\"})[2].text.strip()\n",
    "        Fiber = html_soup.find_all(\"div\", {\"col-3 nutrient_cell\"})[0].text.strip()\n",
    "        receita = html_soup.find_all('a', {'class': 'row'})[0][\"href\"]\n",
    "        receita = \"https://www.eatthismuch.com\"+receita\n",
    "        dataframe_recipes.append([url,receita,Title,Calories,Carbs,Fat,Protein,Fiber])\n",
    "        \n",
    "    except:\n",
    "        print(url)\n",
    "        pass"
   ]
  },
  {
   "cell_type": "markdown",
   "id": "49ad3123",
   "metadata": {},
   "source": [
    "## Cleaning Data"
   ]
  },
  {
   "cell_type": "code",
   "execution_count": 7,
   "id": "dde208f6",
   "metadata": {},
   "outputs": [
    {
     "data": {
      "text/html": [
       "<div>\n",
       "<style scoped>\n",
       "    .dataframe tbody tr th:only-of-type {\n",
       "        vertical-align: middle;\n",
       "    }\n",
       "\n",
       "    .dataframe tbody tr th {\n",
       "        vertical-align: top;\n",
       "    }\n",
       "\n",
       "    .dataframe thead th {\n",
       "        text-align: right;\n",
       "    }\n",
       "</style>\n",
       "<table border=\"1\" class=\"dataframe\">\n",
       "  <thead>\n",
       "    <tr style=\"text-align: right;\">\n",
       "      <th></th>\n",
       "      <th>0</th>\n",
       "      <th>1</th>\n",
       "      <th>2</th>\n",
       "      <th>3</th>\n",
       "      <th>4</th>\n",
       "      <th>5</th>\n",
       "      <th>6</th>\n",
       "      <th>7</th>\n",
       "    </tr>\n",
       "  </thead>\n",
       "  <tbody>\n",
       "    <tr>\n",
       "      <th>0</th>\n",
       "      <td>https://www.eatthismuch.com/food/browse/?q=Pas...</td>\n",
       "      <td>https://www.eatthismuch.com/recipe/nutrition/p...</td>\n",
       "      <td>Pasta la Checca</td>\n",
       "      <td>360</td>\n",
       "      <td>48.8\\n                                        ...</td>\n",
       "      <td>14.7\\n                                        ...</td>\n",
       "      <td>8.9\\n                                         ...</td>\n",
       "      <td>3.7\\n                                         ...</td>\n",
       "    </tr>\n",
       "    <tr>\n",
       "      <th>1</th>\n",
       "      <td>https://www.eatthismuch.com/food/browse/?q=Str...</td>\n",
       "      <td>https://www.eatthismuch.com/recipe/nutrition/p...</td>\n",
       "      <td>Peach and Strawberry Smoothie</td>\n",
       "      <td>128</td>\n",
       "      <td>30.2\\n                                        ...</td>\n",
       "      <td>0.4\\n                                         ...</td>\n",
       "      <td>2.0\\n                                         ...</td>\n",
       "      <td>5.0\\n                                         ...</td>\n",
       "    </tr>\n",
       "  </tbody>\n",
       "</table>\n",
       "</div>"
      ],
      "text/plain": [
       "                                                   0  \\\n",
       "0  https://www.eatthismuch.com/food/browse/?q=Pas...   \n",
       "1  https://www.eatthismuch.com/food/browse/?q=Str...   \n",
       "\n",
       "                                                   1  \\\n",
       "0  https://www.eatthismuch.com/recipe/nutrition/p...   \n",
       "1  https://www.eatthismuch.com/recipe/nutrition/p...   \n",
       "\n",
       "                               2    3  \\\n",
       "0                Pasta la Checca  360   \n",
       "1  Peach and Strawberry Smoothie  128   \n",
       "\n",
       "                                                   4  \\\n",
       "0  48.8\\n                                        ...   \n",
       "1  30.2\\n                                        ...   \n",
       "\n",
       "                                                   5  \\\n",
       "0  14.7\\n                                        ...   \n",
       "1  0.4\\n                                         ...   \n",
       "\n",
       "                                                   6  \\\n",
       "0  8.9\\n                                         ...   \n",
       "1  2.0\\n                                         ...   \n",
       "\n",
       "                                                   7  \n",
       "0  3.7\\n                                         ...  \n",
       "1  5.0\\n                                         ...  "
      ]
     },
     "execution_count": 7,
     "metadata": {},
     "output_type": "execute_result"
    }
   ],
   "source": [
    "df_nutrition = pd.DataFrame(dataframe_recipes)\n",
    "df_nutrition"
   ]
  },
  {
   "cell_type": "code",
   "execution_count": 8,
   "id": "c220f909",
   "metadata": {},
   "outputs": [],
   "source": [
    "df_nutrition = pd.DataFrame(dataframe_recipes)\n",
    "df_nutrition.columns = [\"link\",\"receita\",\"title\",\"Calories\",\"Carbs\",\"Fat\",\"Protein\",\"Fiber\"]\n",
    "df_nutrition[\"Calories\"] = df_nutrition[\"Calories\"].str.replace(\"\\D\",\"\",regex=True)\n",
    "df_nutrition[\"Carbs\"] = df_nutrition[\"Carbs\"].str.replace(\"\\D\",\"\",regex=True)\n",
    "df_nutrition[\"Fat\"] = df_nutrition[\"Fat\"].str.replace(\"\\D\",\"\",regex=True)\n",
    "df_nutrition[\"Protein\"] = df_nutrition[\"Protein\"].str.replace(\"\\D\",\"\",regex=True)\n",
    "df_nutrition[\"Fiber\"] = df_nutrition[\"Fiber\"].str.replace(\"\\D\",\"\",regex=True)"
   ]
  },
  {
   "cell_type": "markdown",
   "id": "74ec369c",
   "metadata": {},
   "source": [
    "# Nutrition tables\n",
    "the table df_now does not have info about the nutrition values, so we are going to add"
   ]
  },
  {
   "cell_type": "code",
   "execution_count": 9,
   "id": "b941c63c",
   "metadata": {},
   "outputs": [],
   "source": [
    "# Get nutrition info cols\n",
    "nutrition_info_cols = df_nutrition.columns\n",
    "\n",
    "# from df_previous lets get only the nutrion information\n",
    "df_nutrition_old = df_previous[nutrition_info_cols]\n",
    "\n",
    "# add all nutrition info into a single table\n",
    "df_now_nutrition = pd.concat([df_nutrition, df_nutrition_old])\n",
    "\n",
    "# get single results\n",
    "df_now_nutrition = df_now_nutrition.drop_duplicates()"
   ]
  },
  {
   "cell_type": "code",
   "execution_count": 10,
   "id": "593b8fb5",
   "metadata": {},
   "outputs": [],
   "source": [
    "df_now_nutrition = pd.merge(df_now, df_now_nutrition, on=\"link\",how=\"left\")"
   ]
  },
  {
   "cell_type": "code",
   "execution_count": 11,
   "id": "be50de75",
   "metadata": {},
   "outputs": [],
   "source": [
    "# get the last day value on previous dataframe, and add ascending days to the plan\n",
    "df_now_nutrition[\"day\"] = df_now_nutrition[\"day\"]+(df_previous[\"day\"].iloc[-1]+1)"
   ]
  },
  {
   "cell_type": "code",
   "execution_count": 12,
   "id": "c9e78ad6",
   "metadata": {},
   "outputs": [],
   "source": [
    "# Adding previous results with the new ones\n",
    "final_results = pd.concat([df_previous,df_now_nutrition])"
   ]
  },
  {
   "cell_type": "code",
   "execution_count": 13,
   "id": "b1bea49a",
   "metadata": {},
   "outputs": [],
   "source": [
    "# final_results.loc[final_results[\"type_meal\"].str.contains(\"Breakfast\", na=False), \"obs\"] = 1\n",
    "# final_results.loc[final_results[\"type_meal\"].str.contains(\"Lunch\", na=False), \"obs\"] = 2\n",
    "# final_results.loc[final_results[\"type_meal\"].str.contains(\"Dinner\", na=False), \"obs\"] = 2\n",
    "# final_results.loc[final_results[\"type_meal\"].str.contains(\"Snack\", na=False), \"obs\"] = 1\n",
    "# final_results[\"Calories\"] = (final_results[\"Calories\"]).astype(float)/(final_results[\"obs\"]).astype(float)"
   ]
  },
  {
   "cell_type": "code",
   "execution_count": 14,
   "id": "154171d1",
   "metadata": {},
   "outputs": [],
   "source": [
    "final_results[\"Meal\"] = \"<a href=\" + final_results[\"receita\"]+\">\"+final_results[\"meal\"]+\"</a>\""
   ]
  },
  {
   "cell_type": "code",
   "execution_count": 15,
   "id": "d2f0894e",
   "metadata": {},
   "outputs": [],
   "source": [
    "final_results = final_results.drop(columns=[\"obs\"])"
   ]
  },
  {
   "cell_type": "code",
   "execution_count": 16,
   "id": "5fde6412",
   "metadata": {},
   "outputs": [],
   "source": [
    "final_results.to_csv(\"../app/food.csv\")"
   ]
  },
  {
   "cell_type": "code",
   "execution_count": 17,
   "id": "8c61f168",
   "metadata": {},
   "outputs": [
    {
     "ename": "NameError",
     "evalue": "name 'sadasdasd' is not defined",
     "output_type": "error",
     "traceback": [
      "\u001b[0;31m---------------------------------------------------------------------------\u001b[0m",
      "\u001b[0;31mNameError\u001b[0m                                 Traceback (most recent call last)",
      "\u001b[0;32m/var/folders/pl/wm7wjyvn1vvflk70yn1b6n6c0000gn/T/ipykernel_15945/554030915.py\u001b[0m in \u001b[0;36m<module>\u001b[0;34m\u001b[0m\n\u001b[0;32m----> 1\u001b[0;31m \u001b[0msadasdasd\u001b[0m\u001b[0;34m\u001b[0m\u001b[0;34m\u001b[0m\u001b[0m\n\u001b[0m",
      "\u001b[0;31mNameError\u001b[0m: name 'sadasdasd' is not defined"
     ]
    }
   ],
   "source": [
    "sadasdasd"
   ]
  },
  {
   "cell_type": "markdown",
   "id": "571df652",
   "metadata": {},
   "source": [
    "# Get Ingredients"
   ]
  },
  {
   "cell_type": "code",
   "execution_count": null,
   "id": "624cc878",
   "metadata": {},
   "outputs": [],
   "source": [
    "ingredients = pd.read_csv(\"../data/processed/ingredients.csv\", index_col=0)"
   ]
  },
  {
   "cell_type": "code",
   "execution_count": null,
   "id": "05243884",
   "metadata": {},
   "outputs": [],
   "source": [
    "lista = []\n",
    "links = list(set(ingredients[\"link_rece\"])-set(final_results[\"receita\"]))\n",
    "\n",
    "if len(links) < 1:\n",
    "    print(len(links), \"nothing new\")\n",
    "    pass\n",
    "    \n",
    "else:\n",
    "    for link in links:  \n",
    "        try:\n",
    "            html_soup = scrape_web(link)\n",
    "            ingredientes = html_soup.find_all('span', {'itemprop': 'recipeIngredient'})\n",
    "            comp_ingredientes = len(ingredientes)\n",
    "            for i in range(comp_ingredientes):\n",
    "                ingred = ingredientes[i].text.split(\"\\n\")\n",
    "                ingred.append(link)\n",
    "                lista.append(ingred)\n",
    "            ingredients_new = pd.DataFrame(lista)\n",
    "            ingredients_new.columns       = [\"0\",\"measure\",\"amount\",\"item\",\"4\",\"link_rece\"]\n",
    "            ingredients.columns = [\"0\",\"measure\",\"amount\",\"item\",\"4\",\"link_rece\"]\n",
    "            ingredients_new = pd.concat([ingredients_new,ingredients],0)\n",
    "            ingredients_new.to_csv(\"../data/processed/ingredients.csv\")\n",
    "        except:\n",
    "            print(link)\n",
    "            pass"
   ]
  },
  {
   "cell_type": "markdown",
   "id": "340625a6",
   "metadata": {},
   "source": [
    "---"
   ]
  },
  {
   "cell_type": "markdown",
   "id": "ed451206",
   "metadata": {},
   "source": [
    "## libs"
   ]
  },
  {
   "cell_type": "code",
   "execution_count": null,
   "id": "7d284df5",
   "metadata": {},
   "outputs": [],
   "source": [
    "import pandas as pd"
   ]
  },
  {
   "cell_type": "markdown",
   "id": "35fc6507",
   "metadata": {},
   "source": [
    "# make market list"
   ]
  },
  {
   "cell_type": "code",
   "execution_count": null,
   "id": "544e1a34",
   "metadata": {},
   "outputs": [],
   "source": [
    "final_results = pd.read_csv(f\"../data/processed/datafera_todos.csv\", index_col=[0])\n",
    "ingredients = pd.read_csv(\"../data/processed/ingredients.csv\", index_col=0)\n",
    "ingredients[\"measure\"] = ingredients[\"measure\"].str.strip()\n",
    "ingredients[\"amount\"] = ingredients[\"amount\"].str.strip()\n",
    "ingredients[\"item\"] = ingredients[\"item\"].str.strip()"
   ]
  },
  {
   "cell_type": "markdown",
   "id": "319f537e",
   "metadata": {},
   "source": [
    "## measure"
   ]
  },
  {
   "cell_type": "code",
   "execution_count": null,
   "id": "cb806f84",
   "metadata": {},
   "outputs": [],
   "source": [
    "ingredients.loc[ingredients[\"measure\"]==\"1 1/4\", \"measure\"] = 1.25\n",
    "ingredients.loc[ingredients[\"measure\"]==\"1 1/2\", \"measure\"] = 1.50\n",
    "ingredients.loc[ingredients[\"measure\"]==\"3 1/2\", \"measure\"] = 3.50"
   ]
  },
  {
   "cell_type": "code",
   "execution_count": null,
   "id": "eab3890f",
   "metadata": {},
   "outputs": [],
   "source": [
    "ingredients[\"measure2\"] = ingredients.measure.apply(pd.eval)"
   ]
  },
  {
   "cell_type": "markdown",
   "id": "3b9da3f5",
   "metadata": {},
   "source": [
    "## quantity"
   ]
  },
  {
   "cell_type": "code",
   "execution_count": null,
   "id": "9ad3cdb3",
   "metadata": {},
   "outputs": [],
   "source": [
    "def convertion(amount, ax):\n",
    "    filter_ = ingredients[\"amount\"].str.contains(amount)\n",
    "    ingredients.loc[filter_, \"measure3\"] = ax * ingredients[filter_][\"measure2\"]\n",
    "    return ingredients"
   ]
  },
  {
   "cell_type": "markdown",
   "id": "3044da55",
   "metadata": {},
   "source": [
    "## organizing"
   ]
  },
  {
   "cell_type": "code",
   "execution_count": null,
   "id": "d7ea2f22",
   "metadata": {},
   "outputs": [],
   "source": [
    "ingredients = convertion(\"oz\", 28.4)\n",
    "ingredients = convertion(\"can\", 160)\n",
    "ingredients = convertion(\"cup\", 200)\n",
    "ingredients = convertion(\"tbsp\", 15)\n",
    "ingredients = convertion(\"tsp\", 0.9)\n",
    "ingredients = convertion(\"dash\", 0.250)\n",
    "ingredients = convertion(\"scoop\", 30)\n",
    "filter_ = (ingredients[\"item\"]==(\"Chicken breast\")) & (ingredients[\"amount\"]!=(\"oz\"))\n",
    "ingredients.loc[filter_, \"measure3\"] = 236.0 * ingredients[filter_][\"measure2\"]"
   ]
  },
  {
   "cell_type": "markdown",
   "id": "338cd3cc",
   "metadata": {},
   "source": [
    "## fillna"
   ]
  },
  {
   "cell_type": "code",
   "execution_count": null,
   "id": "ad286076",
   "metadata": {},
   "outputs": [],
   "source": [
    "ingredients[\"measure4\"] = ingredients[\"measure3\"].fillna(ingredients[\"measure2\"])"
   ]
  },
  {
   "cell_type": "markdown",
   "id": "07962a69",
   "metadata": {},
   "source": [
    "## final"
   ]
  },
  {
   "cell_type": "code",
   "execution_count": null,
   "id": "901622bd",
   "metadata": {},
   "outputs": [],
   "source": [
    "ingred = final_results[final_results[\"day\"]<=30][\"receita\"].unique()\n",
    "ingred = ingredients[ingredients[\"link_rece\"].isin(ingred)]\n",
    "output = ingred.groupby(\"item\")[[\"measure4\"]].sum().reset_index()\n",
    "output.to_excel(\"output.xlsx\")  "
   ]
  },
  {
   "cell_type": "markdown",
   "id": "6df58f6e",
   "metadata": {},
   "source": [
    "## output"
   ]
  },
  {
   "cell_type": "code",
   "execution_count": null,
   "id": "ffc84d31",
   "metadata": {},
   "outputs": [],
   "source": [
    "output.sample(10)"
   ]
  },
  {
   "cell_type": "code",
   "execution_count": null,
   "id": "24dea440",
   "metadata": {},
   "outputs": [],
   "source": [
    "output = ingred.groupby(\"item\")[[\"measure4\"]].sum().reset_index()\n",
    "output['item'] = output['item'].str.lower()\n",
    "common = pd.Series(' '.join(output['item']).split()).value_counts()[:]"
   ]
  },
  {
   "cell_type": "code",
   "execution_count": null,
   "id": "9d752143",
   "metadata": {},
   "outputs": [],
   "source": [
    "from newspaper import Article\n",
    "import nltk\n",
    "nltk.download('punkt')\n",
    "\n",
    "url = \"https://www.eatthismuch.com/recipe/nutrition/peanut-butter-protein-oats,905819/\"\n",
    "article = Article(url)\n",
    "\n",
    "# Download html\n",
    "article.download()\n",
    "\n",
    "# Get information \n",
    "article.parse()\n",
    "article.nlp()"
   ]
  },
  {
   "cell_type": "code",
   "execution_count": null,
   "id": "d09c80f4",
   "metadata": {},
   "outputs": [],
   "source": [
    "print(\"title\",article.title, \"\\n\")\n",
    "print(\"publish_date\",article.publish_date, \"\\n\")\n",
    "print(\"top_image\",article.top_image, \"\\n\")\n",
    "print(\"summary\",article.summary, \"\\n\")\n",
    "print(\"keywords\",article.keywords, \"\\n\")"
   ]
  },
  {
   "cell_type": "code",
   "execution_count": null,
   "id": "9536d3d9",
   "metadata": {},
   "outputs": [],
   "source": []
  },
  {
   "cell_type": "code",
   "execution_count": null,
   "id": "acd2c7da",
   "metadata": {},
   "outputs": [],
   "source": []
  },
  {
   "cell_type": "code",
   "execution_count": null,
   "id": "a97f2248",
   "metadata": {},
   "outputs": [],
   "source": [
    "print(4067.0000/10639)\n",
    "print(3450.0000/10639)\n",
    "print(660.0000/10639)\n",
    "print(1767.0000/10639)\n",
    "print(695.0000/10639)"
   ]
  },
  {
   "cell_type": "code",
   "execution_count": null,
   "id": "fcfb4e8e",
   "metadata": {},
   "outputs": [],
   "source": [
    "# final_results.to_csv(\"../data/processed/datafera_todos.csv\")"
   ]
  }
 ],
 "metadata": {
  "kernelspec": {
   "display_name": "Python 3 (ipykernel)",
   "language": "python",
   "name": "python3"
  },
  "language_info": {
   "codemirror_mode": {
    "name": "ipython",
    "version": 3
   },
   "file_extension": ".py",
   "mimetype": "text/x-python",
   "name": "python",
   "nbconvert_exporter": "python",
   "pygments_lexer": "ipython3",
   "version": "3.9.7"
  }
 },
 "nbformat": 4,
 "nbformat_minor": 5
}
