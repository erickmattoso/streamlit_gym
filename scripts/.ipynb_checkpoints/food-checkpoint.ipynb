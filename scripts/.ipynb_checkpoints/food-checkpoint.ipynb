{
 "cells": [
  {
   "cell_type": "markdown",
   "id": "1b8a89c6",
   "metadata": {},
   "source": [
    "# Libs"
   ]
  },
  {
   "cell_type": "code",
   "execution_count": 1,
   "id": "07d60f4c",
   "metadata": {},
   "outputs": [],
   "source": [
    "from bs4 import BeautifulSoup\n",
    "from datetime import date\n",
    "from selenium import webdriver\n",
    "from selenium.webdriver.chrome.options import Options\n",
    "import pandas as pd\n",
    "import time\n",
    "from webdriver_manager.chrome import ChromeDriverManager\n",
    "from fake_useragent import UserAgent\n",
    "import requests"
   ]
  },
  {
   "cell_type": "markdown",
   "id": "7827467b",
   "metadata": {},
   "source": [
    "# Functions"
   ]
  },
  {
   "cell_type": "code",
   "execution_count": 2,
   "id": "62d560e1",
   "metadata": {},
   "outputs": [],
   "source": [
    "def the_crawler(days_meal):\n",
    "    url = \"https://www.eatthismuch.com/diet-plan/3000-calorie/\"\n",
    "    chrome_options = Options()    \n",
    "    driver = webdriver.Chrome(ChromeDriverManager().install(), chrome_options=chrome_options)\n",
    "    driver.get(url)\n",
    "    driver.find_element_by_css_selector(\".btn.btn-lg.btn-block.btn-orange.gen_button\").click()\n",
    "    time.sleep(5)\n",
    "    html_soup = BeautifulSoup(driver.page_source)\n",
    "#     driver.close()\n",
    "    return html_soup\n",
    "\n",
    "def scrape_web(url):    \n",
    "    headers = {\"User-Agent\": \"Mozilla/5.0 (Macintosh; Intel Mac OS X 10_10_1) AppleWebKit/537.36 (KHTML, like Gecko) Chrome/39.0.2171.95 Safari/537.36\"}\n",
    "    ua=UserAgent()\n",
    "    hdr = {\"User-Agent\": ua.random,\n",
    "          \"Accept\": \"text/html,application/xhtml+xml,application/xml;q=0.9,*/*;q=0.8\",\n",
    "          \"Accept-Charset\": \"ISO-8859-1,utf-8;q=0.7,*;q=0.3\",\n",
    "          \"Accept-Encoding\": \"none\",\n",
    "          \"Accept-Language\": \"en-US,en;q=0.8\",\n",
    "          \"Connection\": \"keep-alive\"}\n",
    "    response = requests.get(url, headers=hdr)\n",
    "    time.sleep(5)\n",
    "    html_soup = BeautifulSoup(response.content,\"lxml\")   \n",
    "    return html_soup"
   ]
  },
  {
   "cell_type": "markdown",
   "id": "659a7e38",
   "metadata": {},
   "source": [
    "# Meal Planner"
   ]
  },
  {
   "cell_type": "code",
   "execution_count": 3,
   "id": "f90d7a0a",
   "metadata": {
    "scrolled": true
   },
   "outputs": [
    {
     "name": "stderr",
     "output_type": "stream",
     "text": [
      "\n",
      "\n",
      "====== WebDriver manager ======\n",
      "Current google-chrome version is 96.0.4664\n",
      "Get LATEST chromedriver version for 96.0.4664 google-chrome\n",
      "Driver [/Users/ericsonmarques/.wdm/drivers/chromedriver/mac64/96.0.4664.45/chromedriver] found in cache\n",
      "/var/folders/pl/wm7wjyvn1vvflk70yn1b6n6c0000gn/T/ipykernel_62169/3138219237.py:4: DeprecationWarning: use options instead of chrome_options\n",
      "  driver = webdriver.Chrome(ChromeDriverManager().install(), chrome_options=chrome_options)\n"
     ]
    }
   ],
   "source": [
    "meals = []\n",
    "\n",
    "for days_meal in range(1):\n",
    "    html_soup = the_crawler(days_meal)\n",
    "    calories = html_soup.find_all(\"div\", {\"class\": \"plan_calories text-medium\"})[0].text\n",
    "    calories = calories.replace(\" Calories\",\"\")\n",
    "\n",
    "    for count in range(0,4): # 4 meals per day\n",
    "        meal_plan = (html_soup.find_all(\"div\", {\"meal_box meal_container row\"})[count])\n",
    "        type_meal = meal_plan.find_all(\"div\", {\"col-auto text-dark-gray text-large text-strong print_meal_title wrap_or_truncate pr-0\"})[0].text\n",
    "        rece = meal_plan.find_all(\"div\", {\"print_name\"})\n",
    "\n",
    "        for i in range(len(rece)):\n",
    "            meal = rece[i].text.strip()\n",
    "            meal_link = meal.replace(\" & \",\"%20\")\n",
    "            meal_link = meal_link.replace(\" \",\"%20\")\n",
    "            meal_link = \"https://www.eatthismuch.com/food/browse/?q=\"+meal_link\n",
    "            day = days_meal\n",
    "            meals.append([day,calories,type_meal, meal,meal_link])\n",
    "\n",
    "    df = pd.DataFrame(meals)\n",
    "    df.to_csv(f\"../data/temp/receipts_partial.csv\")"
   ]
  },
  {
   "cell_type": "markdown",
   "id": "2af53f45",
   "metadata": {},
   "source": [
    "# Get link from recipe and nutrition values"
   ]
  },
  {
   "cell_type": "markdown",
   "id": "f0b9b0dd",
   "metadata": {},
   "source": [
    "## read files"
   ]
  },
  {
   "cell_type": "code",
   "execution_count": 4,
   "id": "7e31b96c",
   "metadata": {},
   "outputs": [],
   "source": [
    "# results from our crawler\n",
    "df_now = pd.read_csv(f\"../data/temp/receipts_partial.csv\", index_col=[0])\n",
    "df_now.columns = [\"day\", \"cals\", \"type_meal\", \"meal\", \"link\"]\n",
    "\n",
    "# results from our previous crawler\n",
    "df_previous = pd.read_csv(f\"../data/processed/datafera_todos.csv\", index_col=[0])"
   ]
  },
  {
   "cell_type": "markdown",
   "id": "7e0cc068",
   "metadata": {},
   "source": [
    "## Read links from recipe"
   ]
  },
  {
   "cell_type": "code",
   "execution_count": 5,
   "id": "0a019ec9",
   "metadata": {},
   "outputs": [],
   "source": [
    "links_recipes = set(df_now[\"link\"]) - set(df_previous[\"link\"])\n",
    "links_recipes = list(links_recipes)"
   ]
  },
  {
   "cell_type": "markdown",
   "id": "7dcedbb7",
   "metadata": {},
   "source": [
    "## Nutrition values\n",
    "Get values from nutrition"
   ]
  },
  {
   "cell_type": "code",
   "execution_count": 6,
   "id": "b046997f",
   "metadata": {
    "scrolled": true
   },
   "outputs": [],
   "source": [
    "dataframe_recipes = []\n",
    "error=[]\n",
    "receitas = []\n",
    "\n",
    "for i in range(len(links_recipes)):\n",
    "    \n",
    "    try:\n",
    "        \n",
    "        url = links_recipes[i]\n",
    "        html_soup = scrape_web(url)\n",
    "        Title = html_soup.find_all(\"div\", {\"result_name col-3\"})[0].text.strip()\n",
    "        Calories = html_soup.find_all(\"div\", {\"col-2 offset-1 nutrient_cell\"})[0].text.strip()\n",
    "        Carbs = html_soup.find_all(\"div\", {\"col-2 nutrient_cell\"})[0].text.strip()\n",
    "        Fat = html_soup.find_all(\"div\", {\"col-2 nutrient_cell\"})[1].text.strip()\n",
    "        Protein = html_soup.find_all(\"div\", {\"col-2 nutrient_cell\"})[2].text.strip()\n",
    "        Fiber = html_soup.find_all(\"div\", {\"col-3 nutrient_cell\"})[0].text.strip()\n",
    "        receita = html_soup.find_all('a', {'class': 'row'})[0][\"href\"]\n",
    "        receita = \"https://www.eatthismuch.com\"+receita\n",
    "        dataframe_recipes.append([url,receita,Title,Calories,Carbs,Fat,Protein,Fiber])\n",
    "        \n",
    "    except:\n",
    "        print(url)\n",
    "        pass"
   ]
  },
  {
   "cell_type": "markdown",
   "id": "49ad3123",
   "metadata": {},
   "source": [
    "## Cleaning Data"
   ]
  },
  {
   "cell_type": "code",
   "execution_count": 7,
   "id": "c220f909",
   "metadata": {},
   "outputs": [],
   "source": [
    "df_nutrition = pd.DataFrame(dataframe_recipes)\n",
    "df_nutrition.columns = [\"link\",\"receita\",\"title\",\"Calories\",\"Carbs\",\"Fat\",\"Protein\",\"Fiber\"]\n",
    "df_nutrition[\"Calories\"] = df_nutrition[\"Calories\"].str.replace(\"\\D\",\"\",regex=True)\n",
    "df_nutrition[\"Carbs\"] = df_nutrition[\"Carbs\"].str.replace(\"\\D\",\"\",regex=True)\n",
    "df_nutrition[\"Fat\"] = df_nutrition[\"Fat\"].str.replace(\"\\D\",\"\",regex=True)\n",
    "df_nutrition[\"Protein\"] = df_nutrition[\"Protein\"].str.replace(\"\\D\",\"\",regex=True)\n",
    "df_nutrition[\"Fiber\"] = df_nutrition[\"Fiber\"].str.replace(\"\\D\",\"\",regex=True)"
   ]
  },
  {
   "cell_type": "markdown",
   "id": "74ec369c",
   "metadata": {},
   "source": [
    "# Nutrition tables\n",
    "the table df_now does not have info about the nutrition values, so we are going to add"
   ]
  },
  {
   "cell_type": "code",
   "execution_count": 8,
   "id": "b941c63c",
   "metadata": {},
   "outputs": [],
   "source": [
    "# Get nutrition info cols\n",
    "nutrition_info_cols = df_nutrition.columns\n",
    "\n",
    "# from df_previous lets get only the nutrion information\n",
    "df_nutrition_old = df_previous[nutrition_info_cols]\n",
    "\n",
    "# add all nutrition info into a single table\n",
    "df_now_nutrition = pd.concat([df_nutrition, df_nutrition_old])\n",
    "\n",
    "# get single results\n",
    "df_now_nutrition = df_now_nutrition.drop_duplicates()"
   ]
  },
  {
   "cell_type": "code",
   "execution_count": 9,
   "id": "593b8fb5",
   "metadata": {},
   "outputs": [],
   "source": [
    "df_now_nutrition = pd.merge(df_now, df_now_nutrition, on=\"link\",how=\"left\")"
   ]
  },
  {
   "cell_type": "code",
   "execution_count": 10,
   "id": "be50de75",
   "metadata": {},
   "outputs": [],
   "source": [
    "# get the last day value on previous dataframe, and add ascending days to the plan\n",
    "df_now_nutrition[\"day\"] = df_now_nutrition[\"day\"]+(df_previous[\"day\"].iloc[-1]+1)"
   ]
  },
  {
   "cell_type": "code",
   "execution_count": 11,
   "id": "c9e78ad6",
   "metadata": {},
   "outputs": [],
   "source": [
    "# Adding previous results with the new ones\n",
    "final_results = pd.concat([df_previous,df_now_nutrition])"
   ]
  },
  {
   "cell_type": "code",
   "execution_count": 12,
   "id": "b395cca7",
   "metadata": {},
   "outputs": [],
   "source": [
    "final_results.loc[final_results[\"type_meal\"].str.contains(\"Breakfast\", na=False), \"obs\"] = 1\n",
    "final_results.loc[final_results[\"type_meal\"].str.contains(\"Lunch\", na=False), \"obs\"] = 2\n",
    "final_results.loc[final_results[\"type_meal\"].str.contains(\"Dinner\", na=False), \"obs\"] = 2\n",
    "final_results.loc[final_results[\"type_meal\"].str.contains(\"Snack\", na=False), \"obs\"] = 1"
   ]
  },
  {
   "cell_type": "code",
   "execution_count": 13,
   "id": "2c75b709",
   "metadata": {},
   "outputs": [],
   "source": [
    "final_results[\"Calories\"] = (final_results[\"Calories\"]).astype(float)*(final_results[\"obs\"]).astype(float)"
   ]
  },
  {
   "cell_type": "code",
   "execution_count": 14,
   "id": "172d912b",
   "metadata": {},
   "outputs": [],
   "source": [
    "final_results[\"Meal\"] = \"<a href=\" + final_results[\"receita\"]+\">\"+final_results[\"meal\"]+\"</a>\""
   ]
  },
  {
   "cell_type": "code",
   "execution_count": 15,
   "id": "5fde6412",
   "metadata": {},
   "outputs": [],
   "source": [
    "final_results.to_csv(\"../data/processed/datafera_todos.csv\")"
   ]
  },
  {
   "cell_type": "code",
   "execution_count": null,
   "id": "82a59c85",
   "metadata": {},
   "outputs": [],
   "source": []
  },
  {
   "cell_type": "code",
   "execution_count": null,
   "id": "32ed11c7",
   "metadata": {},
   "outputs": [],
   "source": []
  },
  {
   "cell_type": "markdown",
   "id": "571df652",
   "metadata": {},
   "source": [
    "# Get Ingredients"
   ]
  },
  {
   "cell_type": "code",
   "execution_count": 16,
   "id": "624cc878",
   "metadata": {},
   "outputs": [],
   "source": [
    "ingredients = pd.read_csv(\"../data/processed/ingredients.csv\", index_col=0)"
   ]
  },
  {
   "cell_type": "code",
   "execution_count": 17,
   "id": "05243884",
   "metadata": {},
   "outputs": [
    {
     "name": "stdout",
     "output_type": "stream",
     "text": [
      "0 nothing new\n"
     ]
    }
   ],
   "source": [
    "lista = []\n",
    "links = list(set(ingredients[\"link_rece\"])-set(final_results[\"receita\"]))\n",
    "\n",
    "if len(links) < 1:\n",
    "    print(len(links), \"nothing new\")\n",
    "    pass\n",
    "    \n",
    "else:\n",
    "    for link in links:  \n",
    "        try:\n",
    "            html_soup = scrape_web(link)\n",
    "            ingredientes = html_soup.find_all('span', {'itemprop': 'recipeIngredient'})\n",
    "            comp_ingredientes = len(ingredientes)\n",
    "            for i in range(comp_ingredientes):\n",
    "                ingred = ingredientes[i].text.split(\"\\n\")\n",
    "                ingred.append(link)\n",
    "                lista.append(ingred)\n",
    "            ingredients_new = pd.DataFrame(lista)\n",
    "            ingredients_new.columns       = [\"0\",\"measure\",\"amount\",\"item\",\"4\",\"link_rece\"]\n",
    "            ingredients.columns = [\"0\",\"measure\",\"amount\",\"item\",\"4\",\"link_rece\"]\n",
    "            ingredients_new = pd.concat([ingredients_new,ingredients],0)\n",
    "            ingredients_new.to_csv(\"../data/processed/ingredients.csv\")\n",
    "        except:\n",
    "            print(link)\n",
    "            pass"
   ]
  },
  {
   "cell_type": "markdown",
   "id": "340625a6",
   "metadata": {},
   "source": [
    "---"
   ]
  },
  {
   "cell_type": "markdown",
   "id": "ed451206",
   "metadata": {},
   "source": [
    "## libs"
   ]
  },
  {
   "cell_type": "code",
   "execution_count": 18,
   "id": "7d284df5",
   "metadata": {},
   "outputs": [],
   "source": [
    "import pandas as pd"
   ]
  },
  {
   "cell_type": "markdown",
   "id": "35fc6507",
   "metadata": {},
   "source": [
    "# make market list"
   ]
  },
  {
   "cell_type": "code",
   "execution_count": 19,
   "id": "544e1a34",
   "metadata": {},
   "outputs": [],
   "source": [
    "final_results = pd.read_csv(f\"../data/processed/datafera_todos.csv\", index_col=[0])\n",
    "ingredients = pd.read_csv(\"../data/processed/ingredients.csv\", index_col=0)\n",
    "ingredients[\"measure\"] = ingredients[\"measure\"].str.strip()\n",
    "ingredients[\"amount\"] = ingredients[\"amount\"].str.strip()\n",
    "ingredients[\"item\"] = ingredients[\"item\"].str.strip()"
   ]
  },
  {
   "cell_type": "markdown",
   "id": "319f537e",
   "metadata": {},
   "source": [
    "## measure"
   ]
  },
  {
   "cell_type": "code",
   "execution_count": 20,
   "id": "cb806f84",
   "metadata": {},
   "outputs": [],
   "source": [
    "ingredients.loc[ingredients[\"measure\"]==\"1 1/4\", \"measure\"] = 1.25\n",
    "ingredients.loc[ingredients[\"measure\"]==\"1 1/2\", \"measure\"] = 1.50\n",
    "ingredients.loc[ingredients[\"measure\"]==\"3 1/2\", \"measure\"] = 3.50"
   ]
  },
  {
   "cell_type": "code",
   "execution_count": 21,
   "id": "eab3890f",
   "metadata": {},
   "outputs": [],
   "source": [
    "ingredients[\"measure2\"] = ingredients.measure.apply(pd.eval)"
   ]
  },
  {
   "cell_type": "markdown",
   "id": "3b9da3f5",
   "metadata": {},
   "source": [
    "## quantity"
   ]
  },
  {
   "cell_type": "code",
   "execution_count": 22,
   "id": "9ad3cdb3",
   "metadata": {},
   "outputs": [],
   "source": [
    "def convertion(amount, ax):\n",
    "    filter_ = ingredients[\"amount\"].str.contains(amount)\n",
    "    ingredients.loc[filter_, \"measure3\"] = ax * ingredients[filter_][\"measure2\"]\n",
    "    return ingredients"
   ]
  },
  {
   "cell_type": "markdown",
   "id": "3044da55",
   "metadata": {},
   "source": [
    "## organizing"
   ]
  },
  {
   "cell_type": "code",
   "execution_count": 23,
   "id": "d7ea2f22",
   "metadata": {},
   "outputs": [],
   "source": [
    "ingredients = convertion(\"oz\", 28.4)\n",
    "ingredients = convertion(\"can\", 160)\n",
    "ingredients = convertion(\"cup\", 200)\n",
    "ingredients = convertion(\"tbsp\", 15)\n",
    "ingredients = convertion(\"tsp\", 0.9)\n",
    "ingredients = convertion(\"dash\", 0.250)\n",
    "ingredients = convertion(\"scoop\", 30)\n",
    "filter_ = (ingredients[\"item\"]==(\"Chicken breast\")) & (ingredients[\"amount\"]!=(\"oz\"))\n",
    "ingredients.loc[filter_, \"measure3\"] = 236.0 * ingredients[filter_][\"measure2\"]"
   ]
  },
  {
   "cell_type": "markdown",
   "id": "338cd3cc",
   "metadata": {},
   "source": [
    "## fillna"
   ]
  },
  {
   "cell_type": "code",
   "execution_count": 24,
   "id": "ad286076",
   "metadata": {},
   "outputs": [],
   "source": [
    "ingredients[\"measure4\"] = ingredients[\"measure3\"].fillna(ingredients[\"measure2\"])"
   ]
  },
  {
   "cell_type": "markdown",
   "id": "07962a69",
   "metadata": {},
   "source": [
    "## final"
   ]
  },
  {
   "cell_type": "code",
   "execution_count": 25,
   "id": "901622bd",
   "metadata": {},
   "outputs": [],
   "source": [
    "ingred = final_results[final_results[\"day\"]<=30][\"receita\"].unique()\n",
    "ingred = ingredients[ingredients[\"link_rece\"].isin(ingred)]\n",
    "output = ingred.groupby(\"item\")[[\"measure4\"]].sum().reset_index()\n",
    "output.to_excel(\"output.xlsx\")  "
   ]
  },
  {
   "cell_type": "markdown",
   "id": "6df58f6e",
   "metadata": {},
   "source": [
    "## output"
   ]
  },
  {
   "cell_type": "code",
   "execution_count": 26,
   "id": "ffc84d31",
   "metadata": {},
   "outputs": [
    {
     "data": {
      "text/html": [
       "<div>\n",
       "<style scoped>\n",
       "    .dataframe tbody tr th:only-of-type {\n",
       "        vertical-align: middle;\n",
       "    }\n",
       "\n",
       "    .dataframe tbody tr th {\n",
       "        vertical-align: top;\n",
       "    }\n",
       "\n",
       "    .dataframe thead th {\n",
       "        text-align: right;\n",
       "    }\n",
       "</style>\n",
       "<table border=\"1\" class=\"dataframe\">\n",
       "  <thead>\n",
       "    <tr style=\"text-align: right;\">\n",
       "      <th></th>\n",
       "      <th>item</th>\n",
       "      <th>measure4</th>\n",
       "    </tr>\n",
       "  </thead>\n",
       "  <tbody>\n",
       "    <tr>\n",
       "      <th>53</th>\n",
       "      <td>Lettuce</td>\n",
       "      <td>202.0</td>\n",
       "    </tr>\n",
       "    <tr>\n",
       "      <th>93</th>\n",
       "      <td>Whey protein powder</td>\n",
       "      <td>220.0</td>\n",
       "    </tr>\n",
       "    <tr>\n",
       "      <th>66</th>\n",
       "      <td>Peanut butter</td>\n",
       "      <td>90.0</td>\n",
       "    </tr>\n",
       "    <tr>\n",
       "      <th>19</th>\n",
       "      <td>Cauliflower</td>\n",
       "      <td>1.0</td>\n",
       "    </tr>\n",
       "    <tr>\n",
       "      <th>30</th>\n",
       "      <td>Corn</td>\n",
       "      <td>80.0</td>\n",
       "    </tr>\n",
       "    <tr>\n",
       "      <th>65</th>\n",
       "      <td>Parmesan cheese</td>\n",
       "      <td>508.4</td>\n",
       "    </tr>\n",
       "    <tr>\n",
       "      <th>31</th>\n",
       "      <td>Corn flakes</td>\n",
       "      <td>200.0</td>\n",
       "    </tr>\n",
       "    <tr>\n",
       "      <th>26</th>\n",
       "      <td>Chicken broth bouillon</td>\n",
       "      <td>0.9</td>\n",
       "    </tr>\n",
       "    <tr>\n",
       "      <th>68</th>\n",
       "      <td>Pico de gallo</td>\n",
       "      <td>30.0</td>\n",
       "    </tr>\n",
       "    <tr>\n",
       "      <th>67</th>\n",
       "      <td>Pepper</td>\n",
       "      <td>0.7</td>\n",
       "    </tr>\n",
       "  </tbody>\n",
       "</table>\n",
       "</div>"
      ],
      "text/plain": [
       "                      item  measure4\n",
       "53                 Lettuce     202.0\n",
       "93     Whey protein powder     220.0\n",
       "66           Peanut butter      90.0\n",
       "19             Cauliflower       1.0\n",
       "30                    Corn      80.0\n",
       "65         Parmesan cheese     508.4\n",
       "31             Corn flakes     200.0\n",
       "26  Chicken broth bouillon       0.9\n",
       "68           Pico de gallo      30.0\n",
       "67                  Pepper       0.7"
      ]
     },
     "execution_count": 26,
     "metadata": {},
     "output_type": "execute_result"
    }
   ],
   "source": [
    "output.sample(10)"
   ]
  },
  {
   "cell_type": "code",
   "execution_count": 27,
   "id": "24dea440",
   "metadata": {},
   "outputs": [],
   "source": [
    "output = ingred.groupby(\"item\")[[\"measure4\"]].sum().reset_index()\n",
    "output['item'] = output['item'].str.lower()\n",
    "common = pd.Series(' '.join(output['item']).split()).value_counts()[:]"
   ]
  },
  {
   "cell_type": "code",
   "execution_count": 28,
   "id": "9d752143",
   "metadata": {},
   "outputs": [
    {
     "name": "stderr",
     "output_type": "stream",
     "text": [
      "[nltk_data] Downloading package punkt to\n",
      "[nltk_data]     /Users/ericsonmarques/nltk_data...\n",
      "[nltk_data]   Package punkt is already up-to-date!\n"
     ]
    }
   ],
   "source": [
    "from newspaper import Article\n",
    "import nltk\n",
    "nltk.download('punkt')\n",
    "\n",
    "url = \"https://www.eatthismuch.com/recipe/nutrition/peanut-butter-protein-oats,905819/\"\n",
    "article = Article(url)\n",
    "\n",
    "# Download html\n",
    "article.download()\n",
    "\n",
    "# Get information \n",
    "article.parse()\n",
    "article.nlp()"
   ]
  },
  {
   "cell_type": "code",
   "execution_count": 29,
   "id": "d09c80f4",
   "metadata": {},
   "outputs": [
    {
     "name": "stdout",
     "output_type": "stream",
     "text": [
      "title Peanut Butter Protein Oats Recipe and Nutrition \n",
      "\n",
      "publish_date None \n",
      "\n",
      "top_image https://images.eatthismuch.com/site_media/img/905819_tabitharwheeler_a57649c7-a6ec-43c7-a782-96df64d3df65.jpg \n",
      "\n",
      "summary Peanut Butter Protein Oats - Recipe and NutritionPeanut Butter Protein Oats By LoulouQ By Takes 6 min, serves 1.\n",
      "Ingredients 1/4 cup Oats1 scoop (30g) Whey protein powder1/2 cup Water1 1/4 tbsp Peanut butterNutrition 389.9 Calories32.6 g13.9 g35.7 g5.2 g3.0 mg2.5 g138.8 mg2.1 g0 gPlease enable javascript to get the best experience on Eat This Much. \n",
      "\n",
      "keywords ['water1', 'whey', 'oats', 'nutrition', 'peanut', 'protein', 'recipe', 'tbsp', 'cup', 'takes', 'butter', '14'] \n",
      "\n"
     ]
    }
   ],
   "source": [
    "print(\"title\",article.title, \"\\n\")\n",
    "print(\"publish_date\",article.publish_date, \"\\n\")\n",
    "print(\"top_image\",article.top_image, \"\\n\")\n",
    "print(\"summary\",article.summary, \"\\n\")\n",
    "print(\"keywords\",article.keywords, \"\\n\")"
   ]
  },
  {
   "cell_type": "code",
   "execution_count": null,
   "id": "17283ab2",
   "metadata": {},
   "outputs": [],
   "source": []
  }
 ],
 "metadata": {
  "kernelspec": {
   "display_name": "Python 3 (ipykernel)",
   "language": "python",
   "name": "python3"
  },
  "language_info": {
   "codemirror_mode": {
    "name": "ipython",
    "version": 3
   },
   "file_extension": ".py",
   "mimetype": "text/x-python",
   "name": "python",
   "nbconvert_exporter": "python",
   "pygments_lexer": "ipython3",
   "version": "3.9.7"
  }
 },
 "nbformat": 4,
 "nbformat_minor": 5
}
