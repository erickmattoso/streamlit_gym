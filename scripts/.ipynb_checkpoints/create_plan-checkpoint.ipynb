{
 "cells": [
  {
   "cell_type": "code",
   "execution_count": 1,
   "id": "7e428170",
   "metadata": {},
   "outputs": [],
   "source": [
    "import pandas as pd\n",
    "import base64\n",
    "import os\n",
    "import glob\n",
    "from datetime import datetime\n",
    "import numpy as np"
   ]
  },
  {
   "cell_type": "code",
   "execution_count": 2,
   "id": "0a1787f1",
   "metadata": {},
   "outputs": [],
   "source": [
    "df_original = pd.read_excel(\"../data/raw/Book1.xlsx\")"
   ]
  },
  {
   "cell_type": "code",
   "execution_count": 3,
   "id": "9099212e",
   "metadata": {},
   "outputs": [],
   "source": [
    "df_plan = df_original[[\"a\",\"b\", \"c\", \"d\"]].dropna(subset=[\"a\"])\n",
    "df_plan.columns = [\"Workout\",\"Day\",\"Length\", \"Serie\"]"
   ]
  },
  {
   "cell_type": "code",
   "execution_count": 4,
   "id": "efd39f0d",
   "metadata": {},
   "outputs": [],
   "source": [
    "df_exercises = df_original[[\"Exercise\",\"Sets\",\"Reps\",\"Kind\",\"Weeks\",\"Series\"]]"
   ]
  },
  {
   "cell_type": "code",
   "execution_count": 5,
   "id": "16b8fe4f",
   "metadata": {},
   "outputs": [],
   "source": [
    "def repetition(serie):\n",
    "    df = df_plan[df_plan[\"Serie\"]==serie]\n",
    "    return pd.concat([df]*3 , ignore_index=True)"
   ]
  },
  {
   "cell_type": "code",
   "execution_count": 6,
   "id": "f20f96c1",
   "metadata": {},
   "outputs": [],
   "source": [
    "Weeks = pd.concat([repetition(1),repetition(2),repetition(3),repetition(4)]).reset_index(drop=True)\n",
    "Weeks = Weeks.reset_index()\n",
    "Weeks[\"index\"] = Weeks[\"index\"]+1"
   ]
  },
  {
   "cell_type": "code",
   "execution_count": 7,
   "id": "94ed8988",
   "metadata": {},
   "outputs": [],
   "source": [
    "for i in range(1,13):\n",
    "    filter_ = (Weeks[\"index\"]>7*(i-1))&(Weeks[\"index\"]<=7*i)\n",
    "    Weeks.loc[filter_, \"Week\"] = \"Week \"+str(i)"
   ]
  },
  {
   "cell_type": "code",
   "execution_count": 8,
   "id": "d0da9180",
   "metadata": {},
   "outputs": [],
   "source": [
    "df_main_table = pd.merge(Weeks,df_exercises, left_on=[\"Workout\",\"Week\"], right_on=[\"Kind\",\"Weeks\"], how=\"left\")"
   ]
  },
  {
   "cell_type": "code",
   "execution_count": 9,
   "id": "2d37d617",
   "metadata": {},
   "outputs": [],
   "source": [
    "df_final = df_main_table[[\"index\",\"Workout\",\"Day\",\"Week\",\"Exercise\",\"Sets\",\"Reps\"]]"
   ]
  },
  {
   "cell_type": "code",
   "execution_count": 10,
   "id": "fa9ad1c0",
   "metadata": {},
   "outputs": [
    {
     "name": "stderr",
     "output_type": "stream",
     "text": [
      "/opt/anaconda3/envs/rents/lib/python3.9/site-packages/pandas/core/indexing.py:1817: SettingWithCopyWarning: \n",
      "A value is trying to be set on a copy of a slice from a DataFrame.\n",
      "Try using .loc[row_indexer,col_indexer] = value instead\n",
      "\n",
      "See the caveats in the documentation: https://pandas.pydata.org/pandas-docs/stable/user_guide/indexing.html#returning-a-view-versus-a-copy\n",
      "  self._setitem_single_column(loc, value, pi)\n"
     ]
    }
   ],
   "source": [
    "df_final.loc[df_final[\"Workout\"]==\"Intervals\", \"Exercise\"] = \"Cardio: 30-60-90 Intervals\""
   ]
  },
  {
   "cell_type": "code",
   "execution_count": 11,
   "id": "e5d28dba",
   "metadata": {},
   "outputs": [
    {
     "name": "stderr",
     "output_type": "stream",
     "text": [
      "/opt/anaconda3/envs/rents/lib/python3.9/site-packages/pandas/core/indexing.py:1684: SettingWithCopyWarning: \n",
      "A value is trying to be set on a copy of a slice from a DataFrame.\n",
      "Try using .loc[row_indexer,col_indexer] = value instead\n",
      "\n",
      "See the caveats in the documentation: https://pandas.pydata.org/pandas-docs/stable/user_guide/indexing.html#returning-a-view-versus-a-copy\n",
      "  self.obj[key] = infer_fill_value(value)\n"
     ]
    }
   ],
   "source": [
    "df_final.loc[df_final[\"Exercise\"].str.contains(\"2A. Chinup/Lat Pulldown\", na=False), \"obs\"] = \"Use band for chinups as needed. Use Lat Pulldown if necessary.\"\n",
    "df_final.loc[df_final[\"Exercise\"].str.contains(\"1B. Dumbbell Stepups\", na=False), \"obs\"] = \"Step should be at 90-degree knee flexion. Complete all reps for one leg before switching.\"\n",
    "df_final.loc[df_final[\"Exercise\"].str.contains(\"2A. Incline DB Chest Press\", na=False), \"obs\"] = \"Set incline to 30 degrees.\"\n",
    "df_final.loc[df_final[\"Exercise\"].str.contains(\"1B. Dumbbell Split Squat\", na=False), \"obs\"] = \"Hold a dumbbell in each hand.\"\n",
    "df_final.loc[df_final[\"Exercise\"].str.contains(\"2B. Single Arm Cable Row\", na=False), \"obs\"] = \"Do not allow torso to rotate.\"\n",
    "df_final.loc[df_final[\"Exercise\"].str.contains(\"2C. Standing Zottman Curls\", na=False), \"obs\"] = \"Use rope attachment.\"\n",
    "df_final.loc[df_final[\"Exercise\"].str.contains(\"2. Trap Bar Deadlift\", na=False), \"obs\"] = \"One set on the minute, every minute.\"\n",
    "df_final.loc[df_final[\"Exercise\"].str.contains(\"2. Barbell Bench Press*\", na=False), \"obs\"] = \"One set on the minute, every minute.\"\n",
    "df_final.loc[df_final[\"Exercise\"].str.contains(\"2. Barbell Back Squat\", na=False), \"obs\"] = \"One set on the minute, every minute.\""
   ]
  },
  {
   "cell_type": "code",
   "execution_count": 12,
   "id": "0cb8ead3",
   "metadata": {},
   "outputs": [
    {
     "name": "stderr",
     "output_type": "stream",
     "text": [
      "/var/folders/pl/wm7wjyvn1vvflk70yn1b6n6c0000gn/T/ipykernel_78307/3524762197.py:1: FutureWarning: The default value of regex will change from True to False in a future version.\n",
      "  df_final[\"Exercise\"] = df_final[\"Exercise\"].str.replace(\"\\*\",\"\")\n",
      "/var/folders/pl/wm7wjyvn1vvflk70yn1b6n6c0000gn/T/ipykernel_78307/3524762197.py:1: SettingWithCopyWarning: \n",
      "A value is trying to be set on a copy of a slice from a DataFrame.\n",
      "Try using .loc[row_indexer,col_indexer] = value instead\n",
      "\n",
      "See the caveats in the documentation: https://pandas.pydata.org/pandas-docs/stable/user_guide/indexing.html#returning-a-view-versus-a-copy\n",
      "  df_final[\"Exercise\"] = df_final[\"Exercise\"].str.replace(\"\\*\",\"\")\n"
     ]
    }
   ],
   "source": [
    "df_final[\"Exercise\"] = df_final[\"Exercise\"].str.replace(\"\\*\",\"\")"
   ]
  },
  {
   "cell_type": "code",
   "execution_count": 13,
   "id": "83c3110d",
   "metadata": {},
   "outputs": [],
   "source": [
    "# teste = df_final[df_final[\"Exercise\"].str.contains(\"rowler\",na=False)][\"Exercise\"].str.split(\".\",expand=True).drop_duplicates(1)"
   ]
  },
  {
   "cell_type": "code",
   "execution_count": 14,
   "id": "eb2e88bf",
   "metadata": {},
   "outputs": [],
   "source": [
    "imgs = pd.read_excel(\"../data/raw/Book2.xlsx\")\n",
    "imgs['imageHTML'] = \"<a href=\" + imgs[\"image\"] + \" target='blank'><img src=\" + imgs[\"image\"] + \" title='rent' width='150' height='150'/></a>\""
   ]
  },
  {
   "cell_type": "code",
   "execution_count": 15,
   "id": "350f7149",
   "metadata": {},
   "outputs": [],
   "source": [
    "hipo = pd.merge(df_final,imgs,left_on=\"Exercise\",right_on=\"EXERCISE\",how=\"left\")\n",
    "hipo.loc[hipo[\"Exercise\"].isna(), \"Exercise\"] = \"Rest Day\"\n",
    "today = datetime.today()\n",
    "hipo[\"Date\"] = today\n",
    "hipo[\"Date\"] = pd.to_datetime(hipo[\"Date\"])\n",
    "temp = (hipo[\"index\"]-1).apply(np.ceil).apply(lambda x: pd.Timedelta(x, unit=\"D\"))\n",
    "hipo[\"Date\"] = hipo[\"Date\"] + temp\n",
    "hipo[\"Date\"] = hipo[\"Date\"].dt.strftime('%Y-%m-%d')\n",
    "# hipo"
   ]
  },
  {
   "cell_type": "code",
   "execution_count": 16,
   "id": "135252f2",
   "metadata": {},
   "outputs": [],
   "source": [
    "# ddf = hipo[hipo[\"Exercise\"].str.contains(\"rowler\")]\n",
    "# ddf.groupby(\"Week\").count()"
   ]
  },
  {
   "cell_type": "code",
   "execution_count": 17,
   "id": "df8b4958",
   "metadata": {},
   "outputs": [],
   "source": [
    "# ddf[ddf[\"Week\"].str.contains(\"Week 1\")]"
   ]
  },
  {
   "cell_type": "code",
   "execution_count": 18,
   "id": "c6d611a5",
   "metadata": {},
   "outputs": [],
   "source": [
    "hipo[\"Status\"]=\"ToDo\""
   ]
  },
  {
   "cell_type": "code",
   "execution_count": 19,
   "id": "e8ad1b9c",
   "metadata": {},
   "outputs": [
    {
     "data": {
      "text/html": [
       "<div>\n",
       "<style scoped>\n",
       "    .dataframe tbody tr th:only-of-type {\n",
       "        vertical-align: middle;\n",
       "    }\n",
       "\n",
       "    .dataframe tbody tr th {\n",
       "        vertical-align: top;\n",
       "    }\n",
       "\n",
       "    .dataframe thead th {\n",
       "        text-align: right;\n",
       "    }\n",
       "</style>\n",
       "<table border=\"1\" class=\"dataframe\">\n",
       "  <thead>\n",
       "    <tr style=\"text-align: right;\">\n",
       "      <th></th>\n",
       "      <th>index</th>\n",
       "      <th>Workout</th>\n",
       "      <th>Day</th>\n",
       "      <th>Week</th>\n",
       "      <th>Exercise</th>\n",
       "      <th>Sets</th>\n",
       "      <th>Reps</th>\n",
       "      <th>obs</th>\n",
       "      <th>EXERCISE</th>\n",
       "      <th>number</th>\n",
       "      <th>image</th>\n",
       "      <th>imageHTML</th>\n",
       "      <th>Date</th>\n",
       "      <th>Status</th>\n",
       "    </tr>\n",
       "  </thead>\n",
       "  <tbody>\n",
       "    <tr>\n",
       "      <th>0</th>\n",
       "      <td>1</td>\n",
       "      <td>Workout A</td>\n",
       "      <td>1.0</td>\n",
       "      <td>Week 1</td>\n",
       "      <td>1A. Goblet Squat</td>\n",
       "      <td>3.0</td>\n",
       "      <td>10</td>\n",
       "      <td>NaN</td>\n",
       "      <td>1A. Goblet Squat</td>\n",
       "      <td>1.0</td>\n",
       "      <td>https://doctorwho.com.br/projects/img/01.gif</td>\n",
       "      <td>&lt;a href=https://doctorwho.com.br/projects/img/...</td>\n",
       "      <td>2022-11-30</td>\n",
       "      <td>ToDo</td>\n",
       "    </tr>\n",
       "    <tr>\n",
       "      <th>1</th>\n",
       "      <td>1</td>\n",
       "      <td>Workout A</td>\n",
       "      <td>1.0</td>\n",
       "      <td>Week 1</td>\n",
       "      <td>2A. Chinup/Lat Pulldown</td>\n",
       "      <td>3.0</td>\n",
       "      <td>10</td>\n",
       "      <td>Use band for chinups as needed. Use Lat Pulldo...</td>\n",
       "      <td>2A. Chinup/Lat Pulldown</td>\n",
       "      <td>2.0</td>\n",
       "      <td>https://doctorwho.com.br/projects/img/02.gif</td>\n",
       "      <td>&lt;a href=https://doctorwho.com.br/projects/img/...</td>\n",
       "      <td>2022-11-30</td>\n",
       "      <td>ToDo</td>\n",
       "    </tr>\n",
       "    <tr>\n",
       "      <th>2</th>\n",
       "      <td>1</td>\n",
       "      <td>Workout A</td>\n",
       "      <td>1.0</td>\n",
       "      <td>Week 1</td>\n",
       "      <td>1B. Dumbbell Stepups</td>\n",
       "      <td>2.0</td>\n",
       "      <td>12</td>\n",
       "      <td>Step should be at 90-degree knee flexion. Comp...</td>\n",
       "      <td>1B. Dumbbell Stepups</td>\n",
       "      <td>3.0</td>\n",
       "      <td>https://doctorwho.com.br/projects/img/03.gif</td>\n",
       "      <td>&lt;a href=https://doctorwho.com.br/projects/img/...</td>\n",
       "      <td>2022-11-30</td>\n",
       "      <td>ToDo</td>\n",
       "    </tr>\n",
       "    <tr>\n",
       "      <th>3</th>\n",
       "      <td>1</td>\n",
       "      <td>Workout A</td>\n",
       "      <td>1.0</td>\n",
       "      <td>Week 1</td>\n",
       "      <td>2B. Single Arm Corner Press</td>\n",
       "      <td>2.0</td>\n",
       "      <td>12</td>\n",
       "      <td>NaN</td>\n",
       "      <td>2B. Single Arm Corner Press</td>\n",
       "      <td>4.0</td>\n",
       "      <td>https://doctorwho.com.br/projects/img/04.gif</td>\n",
       "      <td>&lt;a href=https://doctorwho.com.br/projects/img/...</td>\n",
       "      <td>2022-11-30</td>\n",
       "      <td>ToDo</td>\n",
       "    </tr>\n",
       "    <tr>\n",
       "      <th>4</th>\n",
       "      <td>1</td>\n",
       "      <td>Workout A</td>\n",
       "      <td>1.0</td>\n",
       "      <td>Week 1</td>\n",
       "      <td>1C. Prowler Chest Press</td>\n",
       "      <td>2.0</td>\n",
       "      <td>10</td>\n",
       "      <td>NaN</td>\n",
       "      <td>1C. Prowler Chest Press</td>\n",
       "      <td>5.0</td>\n",
       "      <td>https://doctorwho.com.br/projects/img/05.gif</td>\n",
       "      <td>&lt;a href=https://doctorwho.com.br/projects/img/...</td>\n",
       "      <td>2022-11-30</td>\n",
       "      <td>ToDo</td>\n",
       "    </tr>\n",
       "  </tbody>\n",
       "</table>\n",
       "</div>"
      ],
      "text/plain": [
       "   index    Workout  Day    Week                     Exercise  Sets Reps  \\\n",
       "0      1  Workout A  1.0  Week 1             1A. Goblet Squat   3.0   10   \n",
       "1      1  Workout A  1.0  Week 1      2A. Chinup/Lat Pulldown   3.0   10   \n",
       "2      1  Workout A  1.0  Week 1         1B. Dumbbell Stepups   2.0   12   \n",
       "3      1  Workout A  1.0  Week 1  2B. Single Arm Corner Press   2.0   12   \n",
       "4      1  Workout A  1.0  Week 1      1C. Prowler Chest Press   2.0   10   \n",
       "\n",
       "                                                 obs  \\\n",
       "0                                                NaN   \n",
       "1  Use band for chinups as needed. Use Lat Pulldo...   \n",
       "2  Step should be at 90-degree knee flexion. Comp...   \n",
       "3                                                NaN   \n",
       "4                                                NaN   \n",
       "\n",
       "                      EXERCISE  number  \\\n",
       "0             1A. Goblet Squat     1.0   \n",
       "1      2A. Chinup/Lat Pulldown     2.0   \n",
       "2         1B. Dumbbell Stepups     3.0   \n",
       "3  2B. Single Arm Corner Press     4.0   \n",
       "4      1C. Prowler Chest Press     5.0   \n",
       "\n",
       "                                          image  \\\n",
       "0  https://doctorwho.com.br/projects/img/01.gif   \n",
       "1  https://doctorwho.com.br/projects/img/02.gif   \n",
       "2  https://doctorwho.com.br/projects/img/03.gif   \n",
       "3  https://doctorwho.com.br/projects/img/04.gif   \n",
       "4  https://doctorwho.com.br/projects/img/05.gif   \n",
       "\n",
       "                                           imageHTML        Date Status  \n",
       "0  <a href=https://doctorwho.com.br/projects/img/...  2022-11-30   ToDo  \n",
       "1  <a href=https://doctorwho.com.br/projects/img/...  2022-11-30   ToDo  \n",
       "2  <a href=https://doctorwho.com.br/projects/img/...  2022-11-30   ToDo  \n",
       "3  <a href=https://doctorwho.com.br/projects/img/...  2022-11-30   ToDo  \n",
       "4  <a href=https://doctorwho.com.br/projects/img/...  2022-11-30   ToDo  "
      ]
     },
     "execution_count": 19,
     "metadata": {},
     "output_type": "execute_result"
    }
   ],
   "source": [
    "# hipo = hipo.drop(columns={\"EXERCISE\",\"Date\",\"Workout\"})\n",
    "hipo.head()"
   ]
  },
  {
   "cell_type": "code",
   "execution_count": 20,
   "id": "2c2c2db2",
   "metadata": {},
   "outputs": [],
   "source": [
    "hipo[\"comments\"]=None\n",
    "hipo[[\"index\",\"Week\",\"Exercise\",\"Sets\",\"Reps\",\"obs\",\"Status\",\"image\"]].to_csv(\"../app/exercises.csv\")"
   ]
  },
  {
   "cell_type": "code",
   "execution_count": 21,
   "id": "acdd3430",
   "metadata": {},
   "outputs": [
    {
     "data": {
      "text/html": [
       "<div>\n",
       "<style scoped>\n",
       "    .dataframe tbody tr th:only-of-type {\n",
       "        vertical-align: middle;\n",
       "    }\n",
       "\n",
       "    .dataframe tbody tr th {\n",
       "        vertical-align: top;\n",
       "    }\n",
       "\n",
       "    .dataframe thead th {\n",
       "        text-align: right;\n",
       "    }\n",
       "</style>\n",
       "<table border=\"1\" class=\"dataframe\">\n",
       "  <thead>\n",
       "    <tr style=\"text-align: right;\">\n",
       "      <th></th>\n",
       "      <th>Exercise</th>\n",
       "    </tr>\n",
       "    <tr>\n",
       "      <th>Exercise</th>\n",
       "      <th></th>\n",
       "    </tr>\n",
       "  </thead>\n",
       "  <tbody>\n",
       "    <tr>\n",
       "      <th>1. Rower</th>\n",
       "      <td>3</td>\n",
       "    </tr>\n",
       "    <tr>\n",
       "      <th>1. Run</th>\n",
       "      <td>3</td>\n",
       "    </tr>\n",
       "    <tr>\n",
       "      <th>1. VersaClimber</th>\n",
       "      <td>3</td>\n",
       "    </tr>\n",
       "    <tr>\n",
       "      <th>1A. Barbell Back Squat</th>\n",
       "      <td>9</td>\n",
       "    </tr>\n",
       "    <tr>\n",
       "      <th>1A. Flat Barbell Bench Press</th>\n",
       "      <td>6</td>\n",
       "    </tr>\n",
       "    <tr>\n",
       "      <th>...</th>\n",
       "      <td>...</td>\n",
       "    </tr>\n",
       "    <tr>\n",
       "      <th>4A. Prowler Drive</th>\n",
       "      <td>6</td>\n",
       "    </tr>\n",
       "    <tr>\n",
       "      <th>4B. Farmer’s Walk</th>\n",
       "      <td>6</td>\n",
       "    </tr>\n",
       "    <tr>\n",
       "      <th>4B. Hanging Leg Raise</th>\n",
       "      <td>6</td>\n",
       "    </tr>\n",
       "    <tr>\n",
       "      <th>Cardio: 30-60-90 Intervals</th>\n",
       "      <td>18</td>\n",
       "    </tr>\n",
       "    <tr>\n",
       "      <th>Rest Day</th>\n",
       "      <td>21</td>\n",
       "    </tr>\n",
       "  </tbody>\n",
       "</table>\n",
       "<p>66 rows × 1 columns</p>\n",
       "</div>"
      ],
      "text/plain": [
       "                              Exercise\n",
       "Exercise                              \n",
       "1. Rower                             3\n",
       "1. Run                               3\n",
       "1. VersaClimber                      3\n",
       "1A. Barbell Back Squat               9\n",
       "1A. Flat Barbell Bench Press         6\n",
       "...                                ...\n",
       "4A. Prowler Drive                    6\n",
       "4B. Farmer’s Walk                    6\n",
       "4B. Hanging Leg Raise                6\n",
       "Cardio: 30-60-90 Intervals          18\n",
       "Rest Day                            21\n",
       "\n",
       "[66 rows x 1 columns]"
      ]
     },
     "execution_count": 21,
     "metadata": {},
     "output_type": "execute_result"
    }
   ],
   "source": [
    "hipo.groupby([\"Exercise\"])[[\"Exercise\"]].count()"
   ]
  },
  {
   "cell_type": "code",
   "execution_count": null,
   "id": "a2895caf",
   "metadata": {},
   "outputs": [],
   "source": []
  }
 ],
 "metadata": {
  "kernelspec": {
   "display_name": "Python 3 (ipykernel)",
   "language": "python",
   "name": "python3"
  },
  "language_info": {
   "codemirror_mode": {
    "name": "ipython",
    "version": 3
   },
   "file_extension": ".py",
   "mimetype": "text/x-python",
   "name": "python",
   "nbconvert_exporter": "python",
   "pygments_lexer": "ipython3",
   "version": "3.9.7"
  }
 },
 "nbformat": 4,
 "nbformat_minor": 5
}
